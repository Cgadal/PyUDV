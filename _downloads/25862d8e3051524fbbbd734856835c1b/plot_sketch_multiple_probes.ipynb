{
  "cells": [
    {
      "cell_type": "markdown",
      "metadata": {},
      "source": [
        "\n# Sketch multiple probes\n"
      ]
    },
    {
      "cell_type": "code",
      "execution_count": null,
      "metadata": {
        "collapsed": false
      },
      "outputs": [],
      "source": [
        "import matplotlib.pyplot as plt\nimport numpy as np\n\nfrom pyudv.geometry import MetFlowTransducers, Probe, sketch_probes\n\n# ## define probes\nr = np.linspace(1, 5, 100)  # beam radial coordiantes, same for all probes\nalpha1, alpha2, alpha3, alpha4 = -120, -70, 70, -80  # probe inclinations in degree\n# probe origin points\nO1, O2, O3, O4 = (\n    np.array([1, 8]),\n    np.array([-1, 7]),\n    np.array([2, 2]),\n    np.array([3, 8.5]),\n)\n# probe parameters\nPROBE_PARS = [\n    [r, alpha1, [0, O1]],  # probe1\n    [r, alpha2, [0, O2]],  # probe2\n    [r, alpha3, [0, O3]],  # probe3\n    [r, alpha4, [0, O4]],  # probe4\n]\n# transducers\ntransducers = [\n    MetFlowTransducers[4], MetFlowTransducers[2], MetFlowTransducers[1], None\n]\n\nprobes = [\n    Probe(*probe_pars, transducer)\n    for probe_pars, transducer in zip(PROBE_PARS, transducers)\n]\nprobe_colors = [\"tab:blue\", \"tab:green\", \"tab:orange\", \"tab:red\"]\ncombinations = [(0, 1), (2, 3)]\ncombination_colors = [\"k\", \"grey\"]\n\nfig, ax = plt.subplots(1, 1, layout=\"constrained\")\nsketch_probes(\n    probes,\n    combinations=combinations,\n    probe_colors=probe_colors,\n    combination_colors=combination_colors,\n    ax=ax,\n)\n\n# adding another probe afterwards\nprobe_add = Probe(r, 70, [0, np.array([4, 2])])\nprobe_add.plot_probe(ax, color=\"tab:pink\")\n\nax.set_xlabel(\"x\")\nax.set_ylabel(\"y\")\nplt.show()"
      ]
    }
  ],
  "metadata": {
    "kernelspec": {
      "display_name": "Python 3",
      "language": "python",
      "name": "python3"
    },
    "language_info": {
      "codemirror_mode": {
        "name": "ipython",
        "version": 3
      },
      "file_extension": ".py",
      "mimetype": "text/x-python",
      "name": "python",
      "nbconvert_exporter": "python",
      "pygments_lexer": "ipython3",
      "version": "3.12.0"
    }
  },
  "nbformat": 4,
  "nbformat_minor": 0
}