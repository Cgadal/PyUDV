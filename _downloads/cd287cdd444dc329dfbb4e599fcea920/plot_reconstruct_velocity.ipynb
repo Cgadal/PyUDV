{
  "cells": [
    {
      "cell_type": "markdown",
      "metadata": {},
      "source": [
        "\n# Probes and velocity reconstruction\n"
      ]
    },
    {
      "cell_type": "code",
      "execution_count": null,
      "metadata": {
        "collapsed": false
      },
      "outputs": [],
      "source": [
        "import matplotlib.pyplot as plt\nimport numpy as np\n\nfrom pyudv.geometry import Probe, sketch_probes, reconstruct_velocity\n\n\ndef U(z):\n    u = 5 * (5 - z) ** 2\n    v = u / 10\n    U = np.array([u, v])\n    return U"
      ]
    },
    {
      "cell_type": "markdown",
      "metadata": {},
      "source": [
        "## Define probes and plot them\n\n"
      ]
    },
    {
      "cell_type": "code",
      "execution_count": null,
      "metadata": {
        "collapsed": false
      },
      "outputs": [],
      "source": [
        "# define probes\nr = np.linspace(0, 5, 100)\nalpha1, alpha2 = -120, -70  # deg\nO1, O2 = np.array([1, 8]), np.array([-1, 7])\nprobe1_pars = [r, alpha1, [0, O1]]\nprobe2_pars = [r, alpha2, [0, O2]]\n#\nprobe1 = Probe(*probe1_pars)\nprobe2 = Probe(*probe2_pars)\n\nfig, ax = plt.subplots(1, 1, layout=\"constrained\")\nsketch_probes(\n    [probe1, probe2],\n    combinations=[[0, 1]],\n    combination_colors=[\"k\"],\n    ax=ax,\n)\nax.set_xlabel(\"x\")\nax.set_ylabel(\"y\")\nplt.show()"
      ]
    },
    {
      "cell_type": "markdown",
      "metadata": {},
      "source": [
        "## Create fake signal\n\n"
      ]
    },
    {
      "cell_type": "code",
      "execution_count": null,
      "metadata": {
        "collapsed": false
      },
      "outputs": [],
      "source": [
        "u1 = U(probe1.z).T @ probe1.unit_vec\nu2 = U(probe2.z).T @ probe2.unit_vec"
      ]
    },
    {
      "cell_type": "markdown",
      "metadata": {},
      "source": [
        "## Velocity reconstruction\n\n"
      ]
    },
    {
      "cell_type": "code",
      "execution_count": null,
      "metadata": {
        "collapsed": false
      },
      "outputs": [],
      "source": [
        "U_rec, z_interp, X, dx_1, dx_2 = reconstruct_velocity(u1, u2, probe1, probe2)\nU_th = U(z_interp)\n#\nfig, axarr = plt.subplots(1, 2, layout=\"constrained\", sharey=True)\nfor ax, u_th, u_rec in zip(axarr, U_th, U_rec):\n    ax.plot(u_th, z_interp, \".\", label=\"base\")\n    ax.plot(u_rec, z_interp, \".\", label=\"reconstructed\")\n    ax.legend()\naxarr[0].set_xlabel(\"u\")\naxarr[1].set_xlabel(\"v\")\naxarr[0].set_ylabel(\"z\")\nplt.show()"
      ]
    }
  ],
  "metadata": {
    "kernelspec": {
      "display_name": "Python 3",
      "language": "python",
      "name": "python3"
    },
    "language_info": {
      "codemirror_mode": {
        "name": "ipython",
        "version": 3
      },
      "file_extension": ".py",
      "mimetype": "text/x-python",
      "name": "python",
      "nbconvert_exporter": "python",
      "pygments_lexer": "ipython3",
      "version": "3.12.0"
    }
  },
  "nbformat": 4,
  "nbformat_minor": 0
}