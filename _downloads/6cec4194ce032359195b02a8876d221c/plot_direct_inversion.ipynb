{
  "cells": [
    {
      "cell_type": "markdown",
      "metadata": {},
      "source": [
        "\n# Concentration inference from amplitude signals\n"
      ]
    },
    {
      "cell_type": "code",
      "execution_count": null,
      "metadata": {
        "collapsed": false
      },
      "outputs": [],
      "source": [
        "import matplotlib.pyplot as plt\nimport numpy as np\n\nimport pyudv.attenuation.direct_models as DM\nfrom pyudv.attenuation.inversion import explicit_inversion\nfrom pyudv.attenuation.sediment_acoustic_models import quartz_sand as quartz\n\n\ndef C_to_phi(C, rho=2.65e3):\n    return C / rho\n\n\ndef phi_to_C(phi, rho=2.65e3):\n    return phi * rho\n\n\nfig_width_small = 11.25"
      ]
    },
    {
      "cell_type": "markdown",
      "metadata": {},
      "source": [
        "## Define the parameters for the direct model\n\n"
      ]
    },
    {
      "cell_type": "code",
      "execution_count": null,
      "metadata": {
        "collapsed": false
      },
      "outputs": [],
      "source": [
        "d = 100e-6  # grain mean diameter [m]\nrho = 2.65  # grain density [g/cm3]\nrho = rho * 1e-3 / 1e-6  # grain density [kg/m3]\n\nF = 2e6  # frequency [Hz]\nT = 20  # Temperature [Celsius degrees]\na_w = DM.alpha_w(F, T)  # water absorption, [m-1]\nk = 2 * np.pi * F / DM.sound_velocity(T)  # wavenumber of the wave\n\nKs, Kt = 1, 1  # sediment and transducer constants\nXi = quartz.Xi(k, d / 2)  # sediment attenuation constant\nrn = 0.05  # near field distance [cm]\nr = np.linspace(0.001, 12, 330)  # radial coordinates [cm]\n\n# Volumic fraction of grain\nPhi = np.array([0.0001, 0.002, 0.005, 0.01, 0.02, 0.05, 0.1])"
      ]
    },
    {
      "cell_type": "markdown",
      "metadata": {},
      "source": [
        "## Influence of the imposed point in the integration\n\n### without near field function\n\n"
      ]
    },
    {
      "cell_type": "code",
      "execution_count": null,
      "metadata": {
        "collapsed": false
      },
      "outputs": [],
      "source": [
        "psi = DM.near_field_theoretical(r, rn) * 0 + 1  # near field function\n# defining a constant grain concentration profile\nC = Phi[:, None] * rho * (r[None, :] * 0 + 1)\nMSV = DM.create_MSvoltage(C, r, Xi, a_w, Ks, Kt, psi)\n#\nindexes = [2, 50, 150, 250, 320]\n\ncolor = []\nfig, ax = plt.subplots(\n    1, 1, figsize=(fig_width_small, fig_width_small), constrained_layout=True\n)\nfor i, phi in enumerate(Phi):\n    if i == 0:\n        a = plt.plot(C[i, :], r, lw=4, alpha=0.3, label=\"imposed\")\n    else:\n        a = plt.plot(C[i, :], r, lw=4, alpha=0.3)\n    color.append(a[0].get_color())\nfor j, index in enumerate(indexes):\n    C0 = C[:, index]\n    r0 = r[index]\n    C_inferred, *_ = explicit_inversion(MSV, r, Xi, a_w, psi, C0, r0)\n    for i, phi in enumerate(Phi):\n        if i == 0:\n            plt.plot(\n                C_inferred[i, :], r, lw=2.5 - (j + 1) / 3, label=str(r0), color=color[i]\n            )\n        else:\n            plt.plot(C_inferred[i, :], r, lw=2.5 - (j + 1) / 3, color=color[i])\n        ax.scatter(C0[i], r0, color=color[i]),\nplt.xlabel(\"Concentration~[kg/m3]\")\nplt.ylabel(\"Distance from transducer~[m]\")\nax.set_xscale(\"log\")\nplt.xlim([0.5 * C.min(), 2.5 * C.max()])\nplt.ylim([0, r.max()])\nax.invert_yaxis()\nsecax = ax.secondary_xaxis(\"top\", functions=(C_to_phi, phi_to_C))\nsecax.set_xlabel(\"Volumic fraction\")\nplt.legend(title=\"Distance of imposed concentration [mm]\")\nplt.title(\"Without near field\")\n\nplt.show()"
      ]
    },
    {
      "cell_type": "markdown",
      "metadata": {},
      "source": [
        "### with near field function\n\n"
      ]
    },
    {
      "cell_type": "code",
      "execution_count": null,
      "metadata": {
        "collapsed": false
      },
      "outputs": [],
      "source": [
        "psi = DM.near_field_theoretical(r, rn)  # near field function\n# defining a constant grain concentration profile\nC = Phi[:, None] * rho * (r[None, :] * 0 + 1)\nMSV = DM.create_MSvoltage(C, r[None, :], Xi, a_w, Ks, Kt, psi[None, :])\n#\ncolor = []\nfig, ax = plt.subplots(\n    1, 1, figsize=(fig_width_small, fig_width_small), constrained_layout=True\n)\nfor i, phi in enumerate(Phi):\n    if i == 0:\n        a = plt.plot(C[i, :], r, lw=4, alpha=0.3, label=\"imposed\")\n    else:\n        a = plt.plot(C[i, :], r, lw=4, alpha=0.3)\n    color.append(a[0].get_color())\nfor j, index in enumerate(indexes):\n    C0 = C[:, index]\n    r0 = r[index]\n    C_inferred, *_ = explicit_inversion(MSV, r, Xi, a_w, psi * 0 + 1, C0, r0)\n    for i, phi in enumerate(Phi):\n        if i == 0:\n            plt.plot(\n                C_inferred[i, :], r, lw=2.5 - (j + 1) / 3, label=str(r0), color=color[i]\n            )\n        else:\n            plt.plot(C_inferred[i, :], r, lw=2.5 - (j + 1) / 3, color=color[i])\nplt.xlabel(\"Concentration~[kg/m3]\")\nplt.ylabel(\"Distance from transducer~[m]\")\nax.set_xscale(\"log\")\nplt.xlim([0.5 * C.min(), 2.5 * C.max()])\nplt.ylim([0, r.max()])\nax.invert_yaxis()\nsecax = ax.secondary_xaxis(\"top\", functions=(C_to_phi, phi_to_C))\nsecax.set_xlabel(\"Volumic fraction\")\nplt.legend(title=\"Distance of imposed concentration [mm]\")\nplt.title(\"With near field\")\n\nplt.show()"
      ]
    },
    {
      "cell_type": "markdown",
      "metadata": {},
      "source": [
        "### with real type concentration profiles\n\n"
      ]
    },
    {
      "cell_type": "code",
      "execution_count": null,
      "metadata": {
        "collapsed": false
      },
      "outputs": [],
      "source": [
        "psi = DM.near_field_theoretical(r, rn)  # near field function\n# C = (\n#     Phi[:, None] * rho * np.exp(-r[None, :] / 1)\n# )  # defining an exponentially decreasing profile\nC = (\n    Phi[:, None] * rho * np.exp(r[None, :] / 10)\n)  # defining an exponentially increasing profile\n# C = Phi[:, None] * rho * (r[None, :] * 0 + 1)  # defining sedimentation-like profile\n# C[..., :230] = 0\n#\nMSV = DM.create_MSvoltage(C, r[None, :], Xi, a_w, Ks, Kt, psi[None, :])\n#\ncolor = []\nfig, ax = plt.subplots(\n    1, 1, figsize=(fig_width_small, fig_width_small), constrained_layout=True\n)\nfor i, phi in enumerate(Phi):\n    if i == 0:\n        a = plt.plot(C[i, :], r, lw=4, alpha=0.3, label=\"imposed\")\n    else:\n        a = plt.plot(C[i, :], r, lw=4, alpha=0.3)\n    color.append(a[0].get_color())\nfor j, index in enumerate(indexes):\n    C0 = C[:, index]\n    r0 = r[index]\n    C_inferred, *_ = explicit_inversion(MSV, r, Xi, a_w, psi * 0 + 1, C0, r0)\n    for i, phi in enumerate(Phi):\n        if i == 0:\n            plt.plot(\n                C_inferred[i, :], r, lw=2.5 - (j + 1) / 3, label=str(r0), color=color[i]\n            )\n        else:\n            plt.plot(C_inferred[i, :], r, lw=2.5 - (j + 1) / 3, color=color[i])\n        #\nplt.xlabel(\"Concentration~[kg/m3]\")\nplt.ylabel(\"Distance from transducer~[m]\")\nax.set_xscale(\"log\")\nplt.xlim([0.2 * C[:, -1].min(), 2.5 * C.max()])\nplt.ylim([0, r.max()])\nax.invert_yaxis()\nsecax = ax.secondary_xaxis(\"top\", functions=(C_to_phi, phi_to_C))\nsecax.set_xlabel(\"Volumic fraction\")\nplt.legend(title=\"Distance of imposed concentration [mm]\")\nplt.title(\"With exponential concentration profiles\")\n\nplt.show()"
      ]
    }
  ],
  "metadata": {
    "kernelspec": {
      "display_name": "Python 3",
      "language": "python",
      "name": "python3"
    },
    "language_info": {
      "codemirror_mode": {
        "name": "ipython",
        "version": 3
      },
      "file_extension": ".py",
      "mimetype": "text/x-python",
      "name": "python",
      "nbconvert_exporter": "python",
      "pygments_lexer": "ipython3",
      "version": "3.12.0"
    }
  },
  "nbformat": 4,
  "nbformat_minor": 0
}