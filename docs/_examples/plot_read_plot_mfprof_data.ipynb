{
  "cells": [
    {
      "cell_type": "markdown",
      "metadata": {},
      "source": [
        "\n# Read and plot .mfprof data\n"
      ]
    },
    {
      "cell_type": "code",
      "execution_count": null,
      "metadata": {
        "collapsed": false
      },
      "outputs": [],
      "source": [
        "import matplotlib.colors as colors\nimport matplotlib.pyplot as plt\nimport numpy as np\n\nfrom pyudv.read_mfprof import (\n    amplitude_from_mfprof_reading,\n    read_mfprof,\n    velocity_from_mfprof_reading,\n)\n\n#\npath_data = \"src/data_sample.mfprof\"\n\n# #### Loading data\nData, Parameters, Info, Units = read_mfprof(path_data)\nAmplitude_data = amplitude_from_mfprof_reading(Data, Parameters)\nVelocity_data = velocity_from_mfprof_reading(Data, Parameters)\ntime = Data[\"profileTime\"]\nz_coordinates = Data[\"DistanceAlongBeam\"] * 1e2\nindmax_time = np.argwhere(Data[\"transducer\"] == 0)[1][0] - 1\nindmax_z = -1\nind_bottom = 572\n\n# #### plotting velocity\ndivnorm = colors.TwoSlopeNorm(vcenter=0, vmin=-0.2, vmax=0.2)\nfig, ax = plt.subplots(1, 1, constrained_layout=True)\nc = ax.pcolormesh(\n    time[:indmax_time],\n    z_coordinates[:indmax_z],\n    Velocity_data[:indmax_z, :indmax_time],\n    cmap=\"PuOr\",\n    norm=divnorm,\n    rasterized=True,\n    shading=\"auto\",\n)\nax.axhline(y=z_coordinates[ind_bottom], color=\"k\", lw=\"0.5\", ls=\"--\")\nax.invert_yaxis()\nfig.colorbar(c, label=\"Velocity [m/s]\")\nax.set_xlabel(\"Time [s]\")\nax.set_ylabel(\"DistanceAlongBeam [cm]\")\n# fig.draw_without_rendering()\nplt.savefig(\"plots/Spatio_temporal_velocity.pdf\", dpi=600)\nplt.show()\n\n# #### plotting amplitude\ndivnorm = colors.TwoSlopeNorm(vcenter=0, vmin=-0.1, vmax=0.1)\nfig, ax = plt.subplots(1, 1, constrained_layout=True)\nc = ax.pcolormesh(\n    time[:indmax_time],\n    z_coordinates[:indmax_z],\n    Amplitude_data[:indmax_z, :indmax_time],\n    rasterized=True,\n    shading=\"auto\",\n    cmap=\"PuOr\",\n    norm=divnorm,\n)\nax.axhline(y=z_coordinates[ind_bottom], color=\"k\", lw=\"0.5\", ls=\"--\")\nax.invert_yaxis()\nfig.colorbar(c, label=\"Amplitude [V]\")\nax.set_xlabel(\"Time [s]\")\nax.set_ylabel(\"DistanceAlongBeam [cm]\")\nplt.savefig(\"plots/Spatio_temporal_amplitude.pdf\", dpi=600)\nplt.show()"
      ]
    }
  ],
  "metadata": {
    "kernelspec": {
      "display_name": "Python 3",
      "language": "python",
      "name": "python3"
    },
    "language_info": {
      "codemirror_mode": {
        "name": "ipython",
        "version": 3
      },
      "file_extension": ".py",
      "mimetype": "text/x-python",
      "name": "python",
      "nbconvert_exporter": "python",
      "pygments_lexer": "ipython3",
      "version": "3.10.12"
    }
  },
  "nbformat": 4,
  "nbformat_minor": 0
}